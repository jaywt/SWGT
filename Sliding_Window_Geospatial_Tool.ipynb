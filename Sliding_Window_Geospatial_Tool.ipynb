{
 "cells": [
  {
   "cell_type": "markdown",
   "metadata": {
    "slideshow": {
     "slide_type": "-"
    }
   },
   "source": [
    "# 1. Demo of running sliding window tool"
   ]
  },
  {
   "cell_type": "code",
   "execution_count": null,
   "metadata": {},
   "outputs": [],
   "source": [
    "run main.py example_config.cfg"
   ]
  },
  {
   "cell_type": "markdown",
   "metadata": {},
   "source": [
    "# 2. Creating publication quality heatmap"
   ]
  },
  {
   "cell_type": "code",
   "execution_count": null,
   "metadata": {},
   "outputs": [],
   "source": [
    "# need to install geopandas package first\n",
    "import geopandas as gpd\n",
    "import matplotlib as mpl\n",
    "import matplotlib.pyplot as plt\n",
    "import pandas as pd"
   ]
  },
  {
   "cell_type": "code",
   "execution_count": null,
   "metadata": {},
   "outputs": [],
   "source": [
    "# import shapefiles\n",
    "bradford_boundary = gpd.read_file(\"./data/map-features/Bradford_County.shp\")\n",
    "bradford_twp = gpd.read_file(\"./data/map-features/Bradford_Townships.shp\")\n",
    "anticlines = gpd.read_file(\"./data/map-features/Bradford_Anticlines.shp\")"
   ]
  },
  {
   "cell_type": "code",
   "execution_count": null,
   "metadata": {},
   "outputs": [],
   "source": [
    "# import sliding window output for plotting\n",
    "matrix = pd.read_csv(\"./output/example_corr_matrix.csv\")\n",
    "count_matrix = pd.read_csv(\"./output/example_data_count_matrix.csv\")"
   ]
  },
  {
   "cell_type": "code",
   "execution_count": null,
   "metadata": {},
   "outputs": [],
   "source": [
    "%matplotlib inline\n",
    "\n",
    "## plot basemap layers\n",
    "f, ax = plt.subplots(1)\n",
    "bradford_boundary.to_crs(epsg=4326).plot(ax=ax, facecolor='None', edgecolor=\"black\")\n",
    "bradford_twp.to_crs(epsg=4326).plot(ax=ax, facecolor=\"None\",edgecolor=\"gray\", alpha=0.5)\n",
    "anticlines.to_crs(epsg=4326).plot(ax=ax, color=\"red\")\n",
    "plt.xlim(-77,-76)\n",
    "plt.ylim(41.4,42.1)\n",
    "\n",
    "## plot heatmap layer\n",
    "norm = mpl.colors.Normalize(vmin=-1.,vmax=1.)\n",
    "norm2 = mpl.colors.Normalize(vmin=0.,vmax=1.)\n",
    "\n",
    "plt.imshow(matrix, extent=[-77, -76, 41.4, 42.1], cmap ='bwr_r', norm=norm)\n",
    "plt.colorbar()\n",
    "\n",
    "plt.imshow(count_matrix==0, extent=[-77, -76, 41.4, 42.1], cmap='binary', norm=norm2, alpha=0.1)\n",
    "\n",
    "## save plot to file\n",
    "plt.savefig(\"./output/\"+\"example_revised_heatmap.pdf\",dpi=300)\n",
    "\n",
    "## Show the map in Jupyter Notebook\n",
    "plt.show()"
   ]
  }
 ],
 "metadata": {
  "kernelspec": {
   "display_name": "Python 3",
   "language": "python",
   "name": "python3"
  },
  "language_info": {
   "codemirror_mode": {
    "name": "ipython",
    "version": 3
   },
   "file_extension": ".py",
   "mimetype": "text/x-python",
   "name": "python",
   "nbconvert_exporter": "python",
   "pygments_lexer": "ipython3",
   "version": "3.7.1"
  }
 },
 "nbformat": 4,
 "nbformat_minor": 2
}
